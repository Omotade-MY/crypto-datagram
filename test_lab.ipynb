{
 "cells": [
  {
   "cell_type": "code",
   "execution_count": 35,
   "metadata": {},
   "outputs": [],
   "source": [
    "from Whaleeu.Extract_From_Site import  Scrape\n",
    "from omotade.extract import extract_coindata\n",
    "from omotade.crud import load_data\n",
    "import pandas as pd"
   ]
  },
  {
   "cell_type": "code",
   "execution_count": 5,
   "metadata": {},
   "outputs": [],
   "source": [
    "data1, cols = extract_coindata()\n",
    "data2 = Scrape()"
   ]
  },
  {
   "cell_type": "code",
   "execution_count": 12,
   "metadata": {},
   "outputs": [
    {
     "data": {
      "text/plain": [
       "['CoinName',\n",
       " 'Symbol',\n",
       " 'Time',\n",
       " 'Market Cap',\n",
       " 'Price',\n",
       " 'Circulating Supply',\n",
       " 'Volume(24h)',\n",
       " '1h',\n",
       " '24h',\n",
       " '7d',\n",
       " 'Website']"
      ]
     },
     "execution_count": 12,
     "metadata": {},
     "output_type": "execute_result"
    }
   ],
   "source": [
    "cols"
   ]
  },
  {
   "cell_type": "code",
   "execution_count": 13,
   "metadata": {},
   "outputs": [],
   "source": [
    "gen_cols = ['CoinName','Symbol','Time','Price','Change(24h)', 'Volume(24h)', 'Market Cap', 'Website']"
   ]
  },
  {
   "cell_type": "code",
   "execution_count": 15,
   "metadata": {},
   "outputs": [
    {
     "data": {
      "text/plain": [
       "Index(['Symbol', 'Name', 'Price', 'Change', 'Percentage_Change', 'Market Cap',\n",
       "       'Volume_in_Currency_Since_0:00_UTC', 'Volume_in_Currency_in_24Hr',\n",
       "       'Total_Volume_All_Currencies_in_24Hr', 'Circulating Supply', 'Time',\n",
       "       'Site_Url'],\n",
       "      dtype='object')"
      ]
     },
     "execution_count": 15,
     "metadata": {},
     "output_type": "execute_result"
    }
   ],
   "source": [
    "data2.columns"
   ]
  },
  {
   "cell_type": "code",
   "execution_count": 16,
   "metadata": {},
   "outputs": [],
   "source": [
    "cols_map1 = {'CoinName':'CoinName','Symbol':'Symbol','Time':'Time','Price':'Price','Volume(24h)':'Volume(24h)',\n",
    "                '24h':'Change(24h)', 'Market Cap':'Market Cap','Website':'Website'}\n",
    "\n",
    "cols_map2 = {'Name':'CoinName','Symbol':'Symbol','Time':'Time','Price':'Price','Volume_in_Currency_in_24Hr':'Volume(24h)',\n",
    "                'Percentage_Change':'Change(24h)', 'Market Cap':'Market Cap','Site_Url':'Website'}"
   ]
  },
  {
   "cell_type": "code",
   "execution_count": null,
   "metadata": {},
   "outputs": [],
   "source": []
  },
  {
   "cell_type": "code",
   "execution_count": 28,
   "metadata": {},
   "outputs": [],
   "source": [
    "import pandas as pd\n",
    "def rename_cols(cols_map, columns, is_df=False, df=None):\n",
    "    new_column_names = []\n",
    "    for col in columns:\n",
    "        try:\n",
    "            new_column_names.append(cols_map[col])\n",
    "        except KeyError:\n",
    "            new_column_names.append(col)\n",
    "\n",
    "    if is_df == True:\n",
    "        try:\n",
    "            assert df is not None and type(df) == pd.DataFrame\n",
    "            df.columns = new_column_names\n",
    "\n",
    "        except Exception:\n",
    "            print('Data frame object should be passed')\n",
    "            \n",
    "    return new_column_names\n"
   ]
  },
  {
   "cell_type": "code",
   "execution_count": 24,
   "metadata": {},
   "outputs": [],
   "source": [
    "columns_data2 = data2.columns\n",
    "new_column_names_data2 = []\n",
    "for col in columns_data2:\n",
    "    try:\n",
    "        new_column_names_data2.append(cols_map2[col])\n",
    "    except KeyError:\n",
    "        new_column_names_data2.append(col)"
   ]
  },
  {
   "cell_type": "code",
   "execution_count": 32,
   "metadata": {},
   "outputs": [
    {
     "data": {
      "text/plain": [
       "['Symbol',\n",
       " 'CoinName',\n",
       " 'Price',\n",
       " 'Change',\n",
       " 'Change(24h)',\n",
       " 'Market Cap',\n",
       " 'Volume_in_Currency_Since_0:00_UTC',\n",
       " 'Volume(24h)',\n",
       " 'Total_Volume_All_Currencies_in_24Hr',\n",
       " 'Circulating Supply',\n",
       " 'Time',\n",
       " 'Website']"
      ]
     },
     "execution_count": 32,
     "metadata": {},
     "output_type": "execute_result"
    }
   ],
   "source": [
    "rename_cols(cols_map2, columns_data2, is_df=True, df = data2)"
   ]
  },
  {
   "cell_type": "code",
   "execution_count": 34,
   "metadata": {},
   "outputs": [
    {
     "data": {
      "text/html": [
       "<div>\n",
       "<style scoped>\n",
       "    .dataframe tbody tr th:only-of-type {\n",
       "        vertical-align: middle;\n",
       "    }\n",
       "\n",
       "    .dataframe tbody tr th {\n",
       "        vertical-align: top;\n",
       "    }\n",
       "\n",
       "    .dataframe thead th {\n",
       "        text-align: right;\n",
       "    }\n",
       "</style>\n",
       "<table border=\"1\" class=\"dataframe\">\n",
       "  <thead>\n",
       "    <tr style=\"text-align: right;\">\n",
       "      <th></th>\n",
       "      <th>CoinName</th>\n",
       "      <th>Symbol</th>\n",
       "      <th>Time</th>\n",
       "      <th>Price</th>\n",
       "      <th>Change(24h)</th>\n",
       "      <th>Volume(24h)</th>\n",
       "      <th>Market Cap</th>\n",
       "      <th>Website</th>\n",
       "    </tr>\n",
       "  </thead>\n",
       "  <tbody>\n",
       "    <tr>\n",
       "      <th>0</th>\n",
       "      <td>Bitcoin</td>\n",
       "      <td>BTC</td>\n",
       "      <td>2022-06-22 18:16:41.500898</td>\n",
       "      <td>20,227.62</td>\n",
       "      <td>-5.32%</td>\n",
       "      <td>27.791B</td>\n",
       "      <td>385.826B</td>\n",
       "      <td>https://finance.yahoo.com/cryptocurrencies/?gu...</td>\n",
       "    </tr>\n",
       "    <tr>\n",
       "      <th>1</th>\n",
       "      <td>Ethereum</td>\n",
       "      <td>ETH</td>\n",
       "      <td>2022-06-22 18:16:41.500898</td>\n",
       "      <td>1,074.15</td>\n",
       "      <td>-7.83%</td>\n",
       "      <td>14.782B</td>\n",
       "      <td>130.259B</td>\n",
       "      <td>https://finance.yahoo.com/cryptocurrencies/?gu...</td>\n",
       "    </tr>\n",
       "    <tr>\n",
       "      <th>2</th>\n",
       "      <td>Tether</td>\n",
       "      <td>USDT</td>\n",
       "      <td>2022-06-22 18:16:41.500898</td>\n",
       "      <td>0.999015</td>\n",
       "      <td>-0.00%</td>\n",
       "      <td>46.181B</td>\n",
       "      <td>66.915B</td>\n",
       "      <td>https://finance.yahoo.com/cryptocurrencies/?gu...</td>\n",
       "    </tr>\n",
       "    <tr>\n",
       "      <th>3</th>\n",
       "      <td>USD</td>\n",
       "      <td>USDC</td>\n",
       "      <td>2022-06-22 18:16:41.500898</td>\n",
       "      <td>1.0001</td>\n",
       "      <td>-0.02%</td>\n",
       "      <td>4.524B</td>\n",
       "      <td>55.97B</td>\n",
       "      <td>https://finance.yahoo.com/cryptocurrencies/?gu...</td>\n",
       "    </tr>\n",
       "    <tr>\n",
       "      <th>4</th>\n",
       "      <td>Binance</td>\n",
       "      <td>BNB</td>\n",
       "      <td>2022-06-22 18:16:41.500898</td>\n",
       "      <td>216.27</td>\n",
       "      <td>-3.96%</td>\n",
       "      <td>1.051B</td>\n",
       "      <td>35.312B</td>\n",
       "      <td>https://finance.yahoo.com/cryptocurrencies/?gu...</td>\n",
       "    </tr>\n",
       "  </tbody>\n",
       "</table>\n",
       "</div>"
      ],
      "text/plain": [
       "   CoinName Symbol                       Time      Price Change(24h)  \\\n",
       "0   Bitcoin    BTC 2022-06-22 18:16:41.500898  20,227.62      -5.32%   \n",
       "1  Ethereum    ETH 2022-06-22 18:16:41.500898   1,074.15      -7.83%   \n",
       "2    Tether   USDT 2022-06-22 18:16:41.500898   0.999015      -0.00%   \n",
       "3       USD   USDC 2022-06-22 18:16:41.500898     1.0001      -0.02%   \n",
       "4   Binance    BNB 2022-06-22 18:16:41.500898     216.27      -3.96%   \n",
       "\n",
       "  Volume(24h) Market Cap                                            Website  \n",
       "0     27.791B   385.826B  https://finance.yahoo.com/cryptocurrencies/?gu...  \n",
       "1     14.782B   130.259B  https://finance.yahoo.com/cryptocurrencies/?gu...  \n",
       "2     46.181B    66.915B  https://finance.yahoo.com/cryptocurrencies/?gu...  \n",
       "3      4.524B     55.97B  https://finance.yahoo.com/cryptocurrencies/?gu...  \n",
       "4      1.051B    35.312B  https://finance.yahoo.com/cryptocurrencies/?gu...  "
      ]
     },
     "execution_count": 34,
     "metadata": {},
     "output_type": "execute_result"
    }
   ],
   "source": [
    "data2[gen_cols]"
   ]
  },
  {
   "cell_type": "code",
   "execution_count": 25,
   "metadata": {},
   "outputs": [
    {
     "data": {
      "text/plain": [
       "Index(['Symbol', 'Name', 'Price', 'Change', 'Percentage_Change', 'Market Cap',\n",
       "       'Volume_in_Currency_Since_0:00_UTC', 'Volume_in_Currency_in_24Hr',\n",
       "       'Total_Volume_All_Currencies_in_24Hr', 'Circulating Supply', 'Time',\n",
       "       'Site_Url'],\n",
       "      dtype='object')"
      ]
     },
     "execution_count": 25,
     "metadata": {},
     "output_type": "execute_result"
    }
   ],
   "source": [
    "columns_data2"
   ]
  },
  {
   "cell_type": "code",
   "execution_count": 36,
   "metadata": {},
   "outputs": [],
   "source": [
    "data1 = pd.DataFrame(data1, columns=cols)"
   ]
  },
  {
   "cell_type": "code",
   "execution_count": 38,
   "metadata": {},
   "outputs": [
    {
     "data": {
      "text/plain": [
       "['CoinName',\n",
       " 'Symbol',\n",
       " 'Time',\n",
       " 'Market Cap',\n",
       " 'Price',\n",
       " 'Circulating Supply',\n",
       " 'Volume(24h)',\n",
       " '1h',\n",
       " 'Change(24h)',\n",
       " '7d',\n",
       " 'Website']"
      ]
     },
     "execution_count": 38,
     "metadata": {},
     "output_type": "execute_result"
    }
   ],
   "source": [
    "rename_cols(cols_map1, columns=cols, is_df=True, df=data1)"
   ]
  },
  {
   "cell_type": "code",
   "execution_count": 40,
   "metadata": {},
   "outputs": [
    {
     "data": {
      "text/html": [
       "<div>\n",
       "<style scoped>\n",
       "    .dataframe tbody tr th:only-of-type {\n",
       "        vertical-align: middle;\n",
       "    }\n",
       "\n",
       "    .dataframe tbody tr th {\n",
       "        vertical-align: top;\n",
       "    }\n",
       "\n",
       "    .dataframe thead th {\n",
       "        text-align: right;\n",
       "    }\n",
       "</style>\n",
       "<table border=\"1\" class=\"dataframe\">\n",
       "  <thead>\n",
       "    <tr style=\"text-align: right;\">\n",
       "      <th></th>\n",
       "      <th>CoinName</th>\n",
       "      <th>Symbol</th>\n",
       "      <th>Time</th>\n",
       "      <th>Price</th>\n",
       "      <th>Change(24h)</th>\n",
       "      <th>Volume(24h)</th>\n",
       "      <th>Market Cap</th>\n",
       "      <th>Website</th>\n",
       "    </tr>\n",
       "  </thead>\n",
       "  <tbody>\n",
       "    <tr>\n",
       "      <th>0</th>\n",
       "      <td>Bitcoin</td>\n",
       "      <td>BTC</td>\n",
       "      <td>2022/06/22 18:16</td>\n",
       "      <td>$20,262.98</td>\n",
       "      <td>-5.16%</td>\n",
       "      <td>$27,820,798,180</td>\n",
       "      <td>$386,500,227,099</td>\n",
       "      <td>https://coinmarketcap.com/all/views/all/</td>\n",
       "    </tr>\n",
       "    <tr>\n",
       "      <th>1</th>\n",
       "      <td>Ethereum</td>\n",
       "      <td>ETH</td>\n",
       "      <td>2022/06/22 18:16</td>\n",
       "      <td>$1,074.86</td>\n",
       "      <td>-7.77%</td>\n",
       "      <td>$14,787,363,734</td>\n",
       "      <td>$130,344,891,401</td>\n",
       "      <td>https://coinmarketcap.com/all/views/all/</td>\n",
       "    </tr>\n",
       "    <tr>\n",
       "      <th>2</th>\n",
       "      <td>Tether</td>\n",
       "      <td>USDT</td>\n",
       "      <td>2022/06/22 18:16</td>\n",
       "      <td>$0.999</td>\n",
       "      <td>-0.01%</td>\n",
       "      <td>$46,184,406,931</td>\n",
       "      <td>$66,914,230,157</td>\n",
       "      <td>https://coinmarketcap.com/all/views/all/</td>\n",
       "    </tr>\n",
       "    <tr>\n",
       "      <th>3</th>\n",
       "      <td>USD Coin</td>\n",
       "      <td>USDC</td>\n",
       "      <td>2022/06/22 18:16</td>\n",
       "      <td>$1.00</td>\n",
       "      <td>0.01%</td>\n",
       "      <td>$4,520,211,407</td>\n",
       "      <td>$55,978,236,128</td>\n",
       "      <td>https://coinmarketcap.com/all/views/all/</td>\n",
       "    </tr>\n",
       "    <tr>\n",
       "      <th>4</th>\n",
       "      <td>BNB</td>\n",
       "      <td>BNB</td>\n",
       "      <td>2022/06/22 18:16</td>\n",
       "      <td>$216.32</td>\n",
       "      <td>-3.93%</td>\n",
       "      <td>$1,052,006,307</td>\n",
       "      <td>$35,320,270,409</td>\n",
       "      <td>https://coinmarketcap.com/all/views/all/</td>\n",
       "    </tr>\n",
       "  </tbody>\n",
       "</table>\n",
       "</div>"
      ],
      "text/plain": [
       "   CoinName Symbol              Time       Price Change(24h)      Volume(24h)  \\\n",
       "0   Bitcoin    BTC  2022/06/22 18:16  $20,262.98      -5.16%  $27,820,798,180   \n",
       "1  Ethereum    ETH  2022/06/22 18:16   $1,074.86      -7.77%  $14,787,363,734   \n",
       "2    Tether   USDT  2022/06/22 18:16      $0.999      -0.01%  $46,184,406,931   \n",
       "3  USD Coin   USDC  2022/06/22 18:16       $1.00       0.01%   $4,520,211,407   \n",
       "4       BNB    BNB  2022/06/22 18:16     $216.32      -3.93%   $1,052,006,307   \n",
       "\n",
       "         Market Cap                                   Website  \n",
       "0  $386,500,227,099  https://coinmarketcap.com/all/views/all/  \n",
       "1  $130,344,891,401  https://coinmarketcap.com/all/views/all/  \n",
       "2   $66,914,230,157  https://coinmarketcap.com/all/views/all/  \n",
       "3   $55,978,236,128  https://coinmarketcap.com/all/views/all/  \n",
       "4   $35,320,270,409  https://coinmarketcap.com/all/views/all/  "
      ]
     },
     "execution_count": 40,
     "metadata": {},
     "output_type": "execute_result"
    }
   ],
   "source": [
    "data1[gen_cols]"
   ]
  },
  {
   "cell_type": "code",
   "execution_count": null,
   "metadata": {},
   "outputs": [],
   "source": []
  }
 ],
 "metadata": {
  "kernelspec": {
   "display_name": "Python 3.6.2 64-bit",
   "language": "python",
   "name": "python3"
  },
  "language_info": {
   "codemirror_mode": {
    "name": "ipython",
    "version": 3
   },
   "file_extension": ".py",
   "mimetype": "text/x-python",
   "name": "python",
   "nbconvert_exporter": "python",
   "pygments_lexer": "ipython3",
   "version": "3.6.2"
  },
  "orig_nbformat": 4,
  "vscode": {
   "interpreter": {
    "hash": "4c84b0f6af3b91181ac42c1e4857f90b45abdad43bc5d11c0c8c194282206e7d"
   }
  }
 },
 "nbformat": 4,
 "nbformat_minor": 2
}
