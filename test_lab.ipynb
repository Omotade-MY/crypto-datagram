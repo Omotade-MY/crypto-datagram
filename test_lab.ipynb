{
 "cells": [
  {
   "cell_type": "code",
   "execution_count": 3,
   "metadata": {},
   "outputs": [],
   "source": [
    "import psycopg2"
   ]
  },
  {
   "cell_type": "code",
   "execution_count": 5,
   "metadata": {},
   "outputs": [],
   "source": [
    "from Whaleeu.Extract_From_Site import  Scrape\n",
    "from omotade.extract import extract_coindata\n",
    "from omotade.crud import load_data\n",
    "import pandas as pd"
   ]
  },
  {
   "cell_type": "code",
   "execution_count": 6,
   "metadata": {},
   "outputs": [],
   "source": [
    "from sqlalchemy import create_engine\n",
    "\n",
    "hostname = \"borderless-crypto-db-instance.cyjsfpjxjrtj.us-east-1.rds.amazonaws.com\"\n",
    "password = 'incubation-team'\n",
    "DATABASE_URI = f'postgresql+psycopg2://postgres:{password}@{hostname}:5432/CryptoTransactDB'"
   ]
  },
  {
   "cell_type": "code",
   "execution_count": 7,
   "metadata": {},
   "outputs": [],
   "source": []
  },
  {
   "cell_type": "code",
   "execution_count": 10,
   "metadata": {},
   "outputs": [
    {
     "data": {
      "text/plain": [
       "<sqlalchemy.engine.base.Connection at 0x1cbb81bd520>"
      ]
     },
     "execution_count": 10,
     "metadata": {},
     "output_type": "execute_result"
    }
   ],
   "source": [
    "engine.connect()"
   ]
  },
  {
   "cell_type": "code",
   "execution_count": 7,
   "metadata": {},
   "outputs": [],
   "source": [
    "def create_table(engine, table_name):\n",
    "    conn = engine.connect()\n",
    "    query = f'''CREATE TABLE IF NOT EXISTS {table_name} (TransactId Serial PRIMARY KEY, \n",
    "            CoinName VARCHAR (15), Symbol VARCHAR (10), Time Timestamp (40), Price VARCHAR (30),\n",
    "            \"Change(24h)\" VARCHAR (5), \"Volume(24h)\" VARCHAR (35), \"Market Cap\" VARCHAR (40), Website VARCHAR(200))\n",
    "            '''\n",
    "    try:\n",
    "        conn.execute(query)\n",
    "        print('Table Created successfully')\n",
    "    except Exception as e:\n",
    "        print(\"Could not create table\\n\",e)\n",
    "    finally:\n",
    "        conn.close()\n",
    "    \n",
    "\n",
    "def drop_table(engine, table_name):\n",
    "    query = f'''DROP TABLE IF EXISTS {table_name} '''\n",
    "    conn = engine.connect()\n",
    "    try:\n",
    "        conn.execute(query)\n",
    "    except Exception as e:\n",
    "        print('Could not drop table \\n', e)\n",
    "    finally:\n",
    "        conn.close()\n"
   ]
  },
  {
   "cell_type": "code",
   "execution_count": 8,
   "metadata": {},
   "outputs": [],
   "source": [
    "cloud_engine = create_engine(DATABASE_URI)"
   ]
  },
  {
   "cell_type": "code",
   "execution_count": 24,
   "metadata": {},
   "outputs": [
    {
     "name": "stdout",
     "output_type": "stream",
     "text": [
      "Table Created successfully\n"
     ]
    }
   ],
   "source": [
    "create_table(cloud_engine, 'TransactTB')"
   ]
  },
  {
   "cell_type": "code",
   "execution_count": 8,
   "metadata": {},
   "outputs": [],
   "source": [
    "data1, cols = extract_coindata()\n",
    "data2 = Scrape()"
   ]
  },
  {
   "cell_type": "code",
   "execution_count": 13,
   "metadata": {},
   "outputs": [
    {
     "data": {
      "text/plain": [
       "'https://finance.yahoo.com/cryptocurrencies/?guccounter=1&guce_referrer=aHR0cHM6Ly93d3cuZ29vZ2xlLmNvbS8&guce_referrer_sig=AQAAAEFsUKFje9IfbBRb_Nc1c0CH3XLzBMsPGbC34aJHedsZZWMcIK71OyPeb0F-uoEFv7r7apNwoj_KOsefjcG2m-LQthCw0QCGR7CMNllymBciBOYyWj9ND3gHBh8NpI0MAxiwEPVCdmfcwd4SZuMWtyk3BsTEvTFYp518yv8EAE8L'"
      ]
     },
     "execution_count": 13,
     "metadata": {},
     "output_type": "execute_result"
    }
   ],
   "source": [
    "data2['Site_Url'][0]"
   ]
  },
  {
   "cell_type": "code",
   "execution_count": 13,
   "metadata": {},
   "outputs": [],
   "source": [
    "gen_cols = ['CoinName','Symbol','Time','Price','Change(24h)', 'Volume(24h)', 'Market Cap', 'Website']"
   ]
  },
  {
   "cell_type": "code",
   "execution_count": 15,
   "metadata": {},
   "outputs": [
    {
     "data": {
      "text/plain": [
       "Index(['Symbol', 'Name', 'Price', 'Change', 'Percentage_Change', 'Market Cap',\n",
       "       'Volume_in_Currency_Since_0:00_UTC', 'Volume_in_Currency_in_24Hr',\n",
       "       'Total_Volume_All_Currencies_in_24Hr', 'Circulating Supply', 'Time',\n",
       "       'Site_Url'],\n",
       "      dtype='object')"
      ]
     },
     "execution_count": 15,
     "metadata": {},
     "output_type": "execute_result"
    }
   ],
   "source": [
    "data2.columns"
   ]
  },
  {
   "cell_type": "code",
   "execution_count": 16,
   "metadata": {},
   "outputs": [],
   "source": [
    "cols_map1 = {'CoinName':'CoinName','Symbol':'Symbol','Time':'Time','Price':'Price','Volume(24h)':'Volume(24h)',\n",
    "                '24h':'Change(24h)', 'Market Cap':'Market Cap','Website':'Website'}\n",
    "\n",
    "cols_map2 = {'Name':'CoinName','Symbol':'Symbol','Time':'Time','Price':'Price','Volume_in_Currency_in_24Hr':'Volume(24h)',\n",
    "                'Percentage_Change':'Change(24h)', 'Market Cap':'Market Cap','Site_Url':'Website'}"
   ]
  },
  {
   "cell_type": "code",
   "execution_count": null,
   "metadata": {},
   "outputs": [],
   "source": []
  },
  {
   "cell_type": "code",
   "execution_count": 23,
   "metadata": {},
   "outputs": [],
   "source": [
    "def create_coins_table(engine, coin_name):\n",
    "    conn = engine.connect()\n",
    "\n",
    "    query = f'''CREATE TABLE IF NOT EXISTS {coin_name} (TransactId serial PRIMARY KEY, \n",
    "            WebId INT, CoinId INT, Time Timestamp (40), Price Float, \"Change(24h)\" VARCHAR (5), \n",
    "            \"Volume(24h)\" Float, \"Market Cap\" Float)'''\n",
    "\n",
    "    try:\n",
    "        conn.execute(query)\n",
    "        print('Table created succesfully!!')\n",
    "    except Exception as e:\n",
    "        print('COuld not create table\\n', e)\n",
    "    finally:\n",
    "        conn.close()\n",
    "def create_website_tb(engine):\n",
    "    conn = engine.connect()\n",
    "    query = '''CREATE TABLE IF NOT EXISTS Website (WebId SERIAL PRIMARY KEY, URL VARCHAR (200))'''\n",
    "\n",
    "    try:\n",
    "        conn.execute(query)\n",
    "        print('Table created succesfully!!')\n",
    "    except Exception as e:\n",
    "        print('COuld not create table\\n', e)\n",
    "    finally:\n",
    "        conn.close()\n",
    "\n",
    "def create_coin_table(engine):\n",
    "    conn = engine.connect()\n",
    "    query = '''CREATE TABLE IF NOT EXISTS Coin (CoinId SERIAL PRIMARY KEY, CoinName VARCHAR (20), Symbol VARCHAR (10))'''\n",
    "    \n",
    "    try:\n",
    "        conn.execute(query)\n",
    "        print('Table created succesfully!!')\n",
    "    except Exception as e:\n",
    "        print('COuld not create table\\n', e)\n",
    "    finally:\n",
    "        conn.close()\n",
    "\n",
    "def drop_table(engine, table_name):\n",
    "    query = f'''DROP TABLE IF EXISTS {table_name} '''\n",
    "    conn = engine.connect()\n",
    "    try:\n",
    "        conn.execute(query)\n",
    "    except Exception as e:\n",
    "        print('Could not drop table \\n', e)\n",
    "    finally:\n",
    "        conn.close()"
   ]
  },
  {
   "cell_type": "code",
   "execution_count": 27,
   "metadata": {},
   "outputs": [],
   "source": [
    "engine = create_engine(DATABASE_URI)"
   ]
  },
  {
   "cell_type": "code",
   "execution_count": 33,
   "metadata": {},
   "outputs": [
    {
     "name": "stdout",
     "output_type": "stream",
     "text": [
      "Table created succesfully!!\n"
     ]
    }
   ],
   "source": [
    "create_coins_table(engine, 'Bitcoin')"
   ]
  },
  {
   "cell_type": "code",
   "execution_count": 34,
   "metadata": {},
   "outputs": [
    {
     "name": "stdout",
     "output_type": "stream",
     "text": [
      "Table created succesfully!!\n"
     ]
    }
   ],
   "source": [
    "create_coins_table(engine, 'Ethereum')"
   ]
  },
  {
   "cell_type": "code",
   "execution_count": 35,
   "metadata": {},
   "outputs": [
    {
     "name": "stdout",
     "output_type": "stream",
     "text": [
      "Table created succesfully!!\n"
     ]
    }
   ],
   "source": [
    "create_coins_table(engine, 'Tether')"
   ]
  },
  {
   "cell_type": "code",
   "execution_count": 36,
   "metadata": {},
   "outputs": [
    {
     "name": "stdout",
     "output_type": "stream",
     "text": [
      "Table created succesfully!!\n"
     ]
    }
   ],
   "source": [
    "create_coins_table(engine, '\"USD Coin\"')"
   ]
  },
  {
   "cell_type": "code",
   "execution_count": 37,
   "metadata": {},
   "outputs": [
    {
     "name": "stdout",
     "output_type": "stream",
     "text": [
      "Table created succesfully!!\n"
     ]
    }
   ],
   "source": [
    "create_coins_table(engine, 'BNB')"
   ]
  },
  {
   "cell_type": "code",
   "execution_count": 24,
   "metadata": {},
   "outputs": [
    {
     "name": "stdout",
     "output_type": "stream",
     "text": [
      "Table created succesfully!!\n"
     ]
    }
   ],
   "source": [
    "create_website_tb(engine)"
   ]
  },
  {
   "cell_type": "code",
   "execution_count": 25,
   "metadata": {},
   "outputs": [
    {
     "name": "stdout",
     "output_type": "stream",
     "text": [
      "Table created succesfully!!\n"
     ]
    }
   ],
   "source": [
    "create_coin_table(engine)"
   ]
  },
  {
   "cell_type": "code",
   "execution_count": null,
   "metadata": {},
   "outputs": [],
   "source": []
  }
 ],
 "metadata": {
  "kernelspec": {
   "display_name": "Python 3.9.12 ('base')",
   "language": "python",
   "name": "python3"
  },
  "language_info": {
   "codemirror_mode": {
    "name": "ipython",
    "version": 3
   },
   "file_extension": ".py",
   "mimetype": "text/x-python",
   "name": "python",
   "nbconvert_exporter": "python",
   "pygments_lexer": "ipython3",
   "version": "3.9.12"
  },
  "orig_nbformat": 4,
  "vscode": {
   "interpreter": {
    "hash": "263930470851f494f0ed2879c35b57985588df20f9e529b86e97dd5eb9ddc466"
   }
  }
 },
 "nbformat": 4,
 "nbformat_minor": 2
}
